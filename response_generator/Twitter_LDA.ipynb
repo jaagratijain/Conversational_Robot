{
  "nbformat": 4,
  "nbformat_minor": 0,
  "metadata": {
    "colab": {
      "name": "Twitter_LDA.ipynb",
      "provenance": []
    },
    "kernelspec": {
      "name": "python3",
      "display_name": "Python 3"
    }
  },
  "cells": [
    {
      "cell_type": "code",
      "metadata": {
        "id": "Jgm8p9rT6rzE",
        "colab_type": "code",
        "colab": {
          "base_uri": "https://localhost:8080/",
          "height": 72
        },
        "outputId": "decddf1a-b083-4a64-e790-adcbcb4cc3f1"
      },
      "source": [
        "# packages to store and manipulate data\n",
        "import pandas as pd\n",
        "import numpy as np\n",
        "\n",
        "# plotting packages\n",
        "import matplotlib.pyplot as plt\n",
        "import seaborn as sns\n",
        "\n",
        "# model building package\n",
        "import sklearn\n",
        "\n",
        "# package to clean text\n",
        "import re\n"
      ],
      "execution_count": 1,
      "outputs": [
        {
          "output_type": "stream",
          "text": [
            "/usr/local/lib/python3.6/dist-packages/statsmodels/tools/_testing.py:19: FutureWarning: pandas.util.testing is deprecated. Use the functions in the public API at pandas.testing instead.\n",
            "  import pandas.util.testing as tm\n"
          ],
          "name": "stderr"
        }
      ]
    },
    {
      "cell_type": "code",
      "metadata": {
        "id": "nO7Tu81h6wr3",
        "colab_type": "code",
        "colab": {
          "base_uri": "https://localhost:8080/",
          "height": 211
        },
        "outputId": "4ecca8d0-83ee-42a3-b70a-abdf1d2a7a4f"
      },
      "source": [
        "\n",
        "\n",
        "!pip install pyreadstat\n",
        "\n"
      ],
      "execution_count": 3,
      "outputs": [
        {
          "output_type": "stream",
          "text": [
            "Collecting pyreadstat\n",
            "\u001b[?25l  Downloading https://files.pythonhosted.org/packages/41/a9/4bd654dae8469bd782911b01395afd170e67e2926cb7e092993fd29d59e0/pyreadstat-1.0.0-cp36-cp36m-manylinux1_x86_64.whl (1.9MB)\n",
            "\r\u001b[K     |▏                               | 10kB 16.1MB/s eta 0:00:01\r\u001b[K     |▍                               | 20kB 3.0MB/s eta 0:00:01\r\u001b[K     |▌                               | 30kB 3.4MB/s eta 0:00:01\r\u001b[K     |▊                               | 40kB 3.8MB/s eta 0:00:01\r\u001b[K     |▉                               | 51kB 3.5MB/s eta 0:00:01\r\u001b[K     |█                               | 61kB 3.7MB/s eta 0:00:01\r\u001b[K     |█▏                              | 71kB 4.2MB/s eta 0:00:01\r\u001b[K     |█▍                              | 81kB 4.2MB/s eta 0:00:01\r\u001b[K     |█▌                              | 92kB 4.3MB/s eta 0:00:01\r\u001b[K     |█▊                              | 102kB 4.4MB/s eta 0:00:01\r\u001b[K     |█▉                              | 112kB 4.4MB/s eta 0:00:01\r\u001b[K     |██                              | 122kB 4.4MB/s eta 0:00:01\r\u001b[K     |██▏                             | 133kB 4.4MB/s eta 0:00:01\r\u001b[K     |██▍                             | 143kB 4.4MB/s eta 0:00:01\r\u001b[K     |██▌                             | 153kB 4.4MB/s eta 0:00:01\r\u001b[K     |██▊                             | 163kB 4.4MB/s eta 0:00:01\r\u001b[K     |██▉                             | 174kB 4.4MB/s eta 0:00:01\r\u001b[K     |███                             | 184kB 4.4MB/s eta 0:00:01\r\u001b[K     |███▏                            | 194kB 4.4MB/s eta 0:00:01\r\u001b[K     |███▍                            | 204kB 4.4MB/s eta 0:00:01\r\u001b[K     |███▌                            | 215kB 4.4MB/s eta 0:00:01\r\u001b[K     |███▊                            | 225kB 4.4MB/s eta 0:00:01\r\u001b[K     |███▉                            | 235kB 4.4MB/s eta 0:00:01\r\u001b[K     |████                            | 245kB 4.4MB/s eta 0:00:01\r\u001b[K     |████▏                           | 256kB 4.4MB/s eta 0:00:01\r\u001b[K     |████▍                           | 266kB 4.4MB/s eta 0:00:01\r\u001b[K     |████▌                           | 276kB 4.4MB/s eta 0:00:01\r\u001b[K     |████▊                           | 286kB 4.4MB/s eta 0:00:01\r\u001b[K     |████▉                           | 296kB 4.4MB/s eta 0:00:01\r\u001b[K     |█████                           | 307kB 4.4MB/s eta 0:00:01\r\u001b[K     |█████▏                          | 317kB 4.4MB/s eta 0:00:01\r\u001b[K     |█████▍                          | 327kB 4.4MB/s eta 0:00:01\r\u001b[K     |█████▌                          | 337kB 4.4MB/s eta 0:00:01\r\u001b[K     |█████▊                          | 348kB 4.4MB/s eta 0:00:01\r\u001b[K     |█████▉                          | 358kB 4.4MB/s eta 0:00:01\r\u001b[K     |██████                          | 368kB 4.4MB/s eta 0:00:01\r\u001b[K     |██████▏                         | 378kB 4.4MB/s eta 0:00:01\r\u001b[K     |██████▍                         | 389kB 4.4MB/s eta 0:00:01\r\u001b[K     |██████▌                         | 399kB 4.4MB/s eta 0:00:01\r\u001b[K     |██████▊                         | 409kB 4.4MB/s eta 0:00:01\r\u001b[K     |███████                         | 419kB 4.4MB/s eta 0:00:01\r\u001b[K     |███████                         | 430kB 4.4MB/s eta 0:00:01\r\u001b[K     |███████▎                        | 440kB 4.4MB/s eta 0:00:01\r\u001b[K     |███████▍                        | 450kB 4.4MB/s eta 0:00:01\r\u001b[K     |███████▋                        | 460kB 4.4MB/s eta 0:00:01\r\u001b[K     |███████▊                        | 471kB 4.4MB/s eta 0:00:01\r\u001b[K     |████████                        | 481kB 4.4MB/s eta 0:00:01\r\u001b[K     |████████                        | 491kB 4.4MB/s eta 0:00:01\r\u001b[K     |████████▎                       | 501kB 4.4MB/s eta 0:00:01\r\u001b[K     |████████▍                       | 512kB 4.4MB/s eta 0:00:01\r\u001b[K     |████████▋                       | 522kB 4.4MB/s eta 0:00:01\r\u001b[K     |████████▊                       | 532kB 4.4MB/s eta 0:00:01\r\u001b[K     |█████████                       | 542kB 4.4MB/s eta 0:00:01\r\u001b[K     |█████████                       | 552kB 4.4MB/s eta 0:00:01\r\u001b[K     |█████████▎                      | 563kB 4.4MB/s eta 0:00:01\r\u001b[K     |█████████▍                      | 573kB 4.4MB/s eta 0:00:01\r\u001b[K     |█████████▋                      | 583kB 4.4MB/s eta 0:00:01\r\u001b[K     |█████████▊                      | 593kB 4.4MB/s eta 0:00:01\r\u001b[K     |██████████                      | 604kB 4.4MB/s eta 0:00:01\r\u001b[K     |██████████                      | 614kB 4.4MB/s eta 0:00:01\r\u001b[K     |██████████▎                     | 624kB 4.4MB/s eta 0:00:01\r\u001b[K     |██████████▍                     | 634kB 4.4MB/s eta 0:00:01\r\u001b[K     |██████████▋                     | 645kB 4.4MB/s eta 0:00:01\r\u001b[K     |██████████▊                     | 655kB 4.4MB/s eta 0:00:01\r\u001b[K     |███████████                     | 665kB 4.4MB/s eta 0:00:01\r\u001b[K     |███████████                     | 675kB 4.4MB/s eta 0:00:01\r\u001b[K     |███████████▎                    | 686kB 4.4MB/s eta 0:00:01\r\u001b[K     |███████████▍                    | 696kB 4.4MB/s eta 0:00:01\r\u001b[K     |███████████▋                    | 706kB 4.4MB/s eta 0:00:01\r\u001b[K     |███████████▊                    | 716kB 4.4MB/s eta 0:00:01\r\u001b[K     |████████████                    | 727kB 4.4MB/s eta 0:00:01\r\u001b[K     |████████████                    | 737kB 4.4MB/s eta 0:00:01\r\u001b[K     |████████████▎                   | 747kB 4.4MB/s eta 0:00:01\r\u001b[K     |████████████▍                   | 757kB 4.4MB/s eta 0:00:01\r\u001b[K     |████████████▋                   | 768kB 4.4MB/s eta 0:00:01\r\u001b[K     |████████████▊                   | 778kB 4.4MB/s eta 0:00:01\r\u001b[K     |█████████████                   | 788kB 4.4MB/s eta 0:00:01\r\u001b[K     |█████████████                   | 798kB 4.4MB/s eta 0:00:01\r\u001b[K     |█████████████▎                  | 808kB 4.4MB/s eta 0:00:01\r\u001b[K     |█████████████▌                  | 819kB 4.4MB/s eta 0:00:01\r\u001b[K     |█████████████▋                  | 829kB 4.4MB/s eta 0:00:01\r\u001b[K     |█████████████▉                  | 839kB 4.4MB/s eta 0:00:01\r\u001b[K     |██████████████                  | 849kB 4.4MB/s eta 0:00:01\r\u001b[K     |██████████████▏                 | 860kB 4.4MB/s eta 0:00:01\r\u001b[K     |██████████████▎                 | 870kB 4.4MB/s eta 0:00:01\r\u001b[K     |██████████████▌                 | 880kB 4.4MB/s eta 0:00:01\r\u001b[K     |██████████████▋                 | 890kB 4.4MB/s eta 0:00:01\r\u001b[K     |██████████████▉                 | 901kB 4.4MB/s eta 0:00:01\r\u001b[K     |███████████████                 | 911kB 4.4MB/s eta 0:00:01\r\u001b[K     |███████████████▏                | 921kB 4.4MB/s eta 0:00:01\r\u001b[K     |███████████████▎                | 931kB 4.4MB/s eta 0:00:01\r\u001b[K     |███████████████▌                | 942kB 4.4MB/s eta 0:00:01\r\u001b[K     |███████████████▋                | 952kB 4.4MB/s eta 0:00:01\r\u001b[K     |███████████████▉                | 962kB 4.4MB/s eta 0:00:01\r\u001b[K     |████████████████                | 972kB 4.4MB/s eta 0:00:01\r\u001b[K     |████████████████▏               | 983kB 4.4MB/s eta 0:00:01\r\u001b[K     |████████████████▎               | 993kB 4.4MB/s eta 0:00:01\r\u001b[K     |████████████████▌               | 1.0MB 4.4MB/s eta 0:00:01\r\u001b[K     |████████████████▋               | 1.0MB 4.4MB/s eta 0:00:01\r\u001b[K     |████████████████▉               | 1.0MB 4.4MB/s eta 0:00:01\r\u001b[K     |█████████████████               | 1.0MB 4.4MB/s eta 0:00:01\r\u001b[K     |█████████████████▏              | 1.0MB 4.4MB/s eta 0:00:01\r\u001b[K     |█████████████████▎              | 1.1MB 4.4MB/s eta 0:00:01\r\u001b[K     |█████████████████▌              | 1.1MB 4.4MB/s eta 0:00:01\r\u001b[K     |█████████████████▋              | 1.1MB 4.4MB/s eta 0:00:01\r\u001b[K     |█████████████████▉              | 1.1MB 4.4MB/s eta 0:00:01\r\u001b[K     |██████████████████              | 1.1MB 4.4MB/s eta 0:00:01\r\u001b[K     |██████████████████▏             | 1.1MB 4.4MB/s eta 0:00:01\r\u001b[K     |██████████████████▎             | 1.1MB 4.4MB/s eta 0:00:01\r\u001b[K     |██████████████████▌             | 1.1MB 4.4MB/s eta 0:00:01\r\u001b[K     |██████████████████▋             | 1.1MB 4.4MB/s eta 0:00:01\r\u001b[K     |██████████████████▉             | 1.1MB 4.4MB/s eta 0:00:01\r\u001b[K     |███████████████████             | 1.2MB 4.4MB/s eta 0:00:01\r\u001b[K     |███████████████████▏            | 1.2MB 4.4MB/s eta 0:00:01\r\u001b[K     |███████████████████▎            | 1.2MB 4.4MB/s eta 0:00:01\r\u001b[K     |███████████████████▌            | 1.2MB 4.4MB/s eta 0:00:01\r\u001b[K     |███████████████████▋            | 1.2MB 4.4MB/s eta 0:00:01\r\u001b[K     |███████████████████▉            | 1.2MB 4.4MB/s eta 0:00:01\r\u001b[K     |████████████████████            | 1.2MB 4.4MB/s eta 0:00:01\r\u001b[K     |████████████████████▏           | 1.2MB 4.4MB/s eta 0:00:01\r\u001b[K     |████████████████████▍           | 1.2MB 4.4MB/s eta 0:00:01\r\u001b[K     |████████████████████▌           | 1.2MB 4.4MB/s eta 0:00:01\r\u001b[K     |████████████████████▊           | 1.3MB 4.4MB/s eta 0:00:01\r\u001b[K     |████████████████████▉           | 1.3MB 4.4MB/s eta 0:00:01\r\u001b[K     |█████████████████████           | 1.3MB 4.4MB/s eta 0:00:01\r\u001b[K     |█████████████████████▏          | 1.3MB 4.4MB/s eta 0:00:01\r\u001b[K     |█████████████████████▍          | 1.3MB 4.4MB/s eta 0:00:01\r\u001b[K     |█████████████████████▌          | 1.3MB 4.4MB/s eta 0:00:01\r\u001b[K     |█████████████████████▊          | 1.3MB 4.4MB/s eta 0:00:01\r\u001b[K     |█████████████████████▉          | 1.3MB 4.4MB/s eta 0:00:01\r\u001b[K     |██████████████████████          | 1.3MB 4.4MB/s eta 0:00:01\r\u001b[K     |██████████████████████▏         | 1.4MB 4.4MB/s eta 0:00:01\r\u001b[K     |██████████████████████▍         | 1.4MB 4.4MB/s eta 0:00:01\r\u001b[K     |██████████████████████▌         | 1.4MB 4.4MB/s eta 0:00:01\r\u001b[K     |██████████████████████▊         | 1.4MB 4.4MB/s eta 0:00:01\r\u001b[K     |██████████████████████▉         | 1.4MB 4.4MB/s eta 0:00:01\r\u001b[K     |███████████████████████         | 1.4MB 4.4MB/s eta 0:00:01\r\u001b[K     |███████████████████████▏        | 1.4MB 4.4MB/s eta 0:00:01\r\u001b[K     |███████████████████████▍        | 1.4MB 4.4MB/s eta 0:00:01\r\u001b[K     |███████████████████████▌        | 1.4MB 4.4MB/s eta 0:00:01\r\u001b[K     |███████████████████████▊        | 1.4MB 4.4MB/s eta 0:00:01\r\u001b[K     |███████████████████████▉        | 1.5MB 4.4MB/s eta 0:00:01\r\u001b[K     |████████████████████████        | 1.5MB 4.4MB/s eta 0:00:01\r\u001b[K     |████████████████████████▏       | 1.5MB 4.4MB/s eta 0:00:01\r\u001b[K     |████████████████████████▍       | 1.5MB 4.4MB/s eta 0:00:01\r\u001b[K     |████████████████████████▌       | 1.5MB 4.4MB/s eta 0:00:01\r\u001b[K     |████████████████████████▊       | 1.5MB 4.4MB/s eta 0:00:01\r\u001b[K     |████████████████████████▉       | 1.5MB 4.4MB/s eta 0:00:01\r\u001b[K     |█████████████████████████       | 1.5MB 4.4MB/s eta 0:00:01\r\u001b[K     |█████████████████████████▏      | 1.5MB 4.4MB/s eta 0:00:01\r\u001b[K     |█████████████████████████▍      | 1.5MB 4.4MB/s eta 0:00:01\r\u001b[K     |█████████████████████████▌      | 1.6MB 4.4MB/s eta 0:00:01\r\u001b[K     |█████████████████████████▊      | 1.6MB 4.4MB/s eta 0:00:01\r\u001b[K     |█████████████████████████▉      | 1.6MB 4.4MB/s eta 0:00:01\r\u001b[K     |██████████████████████████      | 1.6MB 4.4MB/s eta 0:00:01\r\u001b[K     |██████████████████████████▏     | 1.6MB 4.4MB/s eta 0:00:01\r\u001b[K     |██████████████████████████▍     | 1.6MB 4.4MB/s eta 0:00:01\r\u001b[K     |██████████████████████████▋     | 1.6MB 4.4MB/s eta 0:00:01\r\u001b[K     |██████████████████████████▊     | 1.6MB 4.4MB/s eta 0:00:01\r\u001b[K     |███████████████████████████     | 1.6MB 4.4MB/s eta 0:00:01\r\u001b[K     |███████████████████████████     | 1.6MB 4.4MB/s eta 0:00:01\r\u001b[K     |███████████████████████████▎    | 1.7MB 4.4MB/s eta 0:00:01\r\u001b[K     |███████████████████████████▍    | 1.7MB 4.4MB/s eta 0:00:01\r\u001b[K     |███████████████████████████▋    | 1.7MB 4.4MB/s eta 0:00:01\r\u001b[K     |███████████████████████████▊    | 1.7MB 4.4MB/s eta 0:00:01\r\u001b[K     |████████████████████████████    | 1.7MB 4.4MB/s eta 0:00:01\r\u001b[K     |████████████████████████████    | 1.7MB 4.4MB/s eta 0:00:01\r\u001b[K     |████████████████████████████▎   | 1.7MB 4.4MB/s eta 0:00:01\r\u001b[K     |████████████████████████████▍   | 1.7MB 4.4MB/s eta 0:00:01\r\u001b[K     |████████████████████████████▋   | 1.7MB 4.4MB/s eta 0:00:01\r\u001b[K     |████████████████████████████▊   | 1.8MB 4.4MB/s eta 0:00:01\r\u001b[K     |█████████████████████████████   | 1.8MB 4.4MB/s eta 0:00:01\r\u001b[K     |█████████████████████████████   | 1.8MB 4.4MB/s eta 0:00:01\r\u001b[K     |█████████████████████████████▎  | 1.8MB 4.4MB/s eta 0:00:01\r\u001b[K     |█████████████████████████████▍  | 1.8MB 4.4MB/s eta 0:00:01\r\u001b[K     |█████████████████████████████▋  | 1.8MB 4.4MB/s eta 0:00:01\r\u001b[K     |█████████████████████████████▊  | 1.8MB 4.4MB/s eta 0:00:01\r\u001b[K     |██████████████████████████████  | 1.8MB 4.4MB/s eta 0:00:01\r\u001b[K     |██████████████████████████████  | 1.8MB 4.4MB/s eta 0:00:01\r\u001b[K     |██████████████████████████████▎ | 1.8MB 4.4MB/s eta 0:00:01\r\u001b[K     |██████████████████████████████▍ | 1.9MB 4.4MB/s eta 0:00:01\r\u001b[K     |██████████████████████████████▋ | 1.9MB 4.4MB/s eta 0:00:01\r\u001b[K     |██████████████████████████████▊ | 1.9MB 26kB/s eta 0:00:03\r\u001b[K     |███████████████████████████████ | 1.9MB 26kB/s eta 0:00:03\r\u001b[K     |███████████████████████████████ | 1.9MB 26kB/s eta 0:00:03\r\u001b[K     |███████████████████████████████▎| 1.9MB 26kB/s eta 0:00:02\r\u001b[K     |███████████████████████████████▍| 1.9MB 26kB/s eta 0:00:02\r\u001b[K     |███████████████████████████████▋| 1.9MB 26kB/s eta 0:00:01\r\u001b[K     |███████████████████████████████▊| 1.9MB 26kB/s eta 0:00:01\r\u001b[K     |████████████████████████████████| 1.9MB 26kB/s eta 0:00:01\r\u001b[K     |████████████████████████████████| 2.0MB 26kB/s \n",
            "\u001b[?25hRequirement already satisfied: pandas>0.24.0 in /usr/local/lib/python3.6/dist-packages (from pyreadstat) (1.0.5)\n",
            "Requirement already satisfied: numpy>=1.13.3 in /usr/local/lib/python3.6/dist-packages (from pandas>0.24.0->pyreadstat) (1.18.5)\n",
            "Requirement already satisfied: pytz>=2017.2 in /usr/local/lib/python3.6/dist-packages (from pandas>0.24.0->pyreadstat) (2018.9)\n",
            "Requirement already satisfied: python-dateutil>=2.6.1 in /usr/local/lib/python3.6/dist-packages (from pandas>0.24.0->pyreadstat) (2.8.1)\n",
            "Requirement already satisfied: six>=1.5 in /usr/local/lib/python3.6/dist-packages (from python-dateutil>=2.6.1->pandas>0.24.0->pyreadstat) (1.12.0)\n",
            "Installing collected packages: pyreadstat\n",
            "Successfully installed pyreadstat-1.0.0\n"
          ],
          "name": "stdout"
        }
      ]
    },
    {
      "cell_type": "code",
      "metadata": {
        "id": "0MEICI1g7Er4",
        "colab_type": "code",
        "colab": {}
      },
      "source": [
        "# packages to store and manipulate data\n",
        "import pandas as pd\n",
        "import numpy as np\n",
        "\n",
        "# plotting packages\n",
        "import matplotlib.pyplot as plt\n",
        "import seaborn as sns\n",
        "\n",
        "# model building package\n",
        "import sklearn\n",
        "\n",
        "# package to clean text\n",
        "import re\n"
      ],
      "execution_count": 4,
      "outputs": []
    },
    {
      "cell_type": "code",
      "metadata": {
        "id": "arzSvKu47LTB",
        "colab_type": "code",
        "colab": {}
      },
      "source": [
        "df = pd.read_csv('/content/drive/My Drive/climate_tweets.csv')\n"
      ],
      "execution_count": 6,
      "outputs": []
    },
    {
      "cell_type": "code",
      "metadata": {
        "id": "yAyJ2CZC7Nm2",
        "colab_type": "code",
        "colab": {}
      },
      "source": [
        "# two string variables for comparison\n",
        "string1 = 'climate'\n",
        "string2 = 'climb'\n"
      ],
      "execution_count": 7,
      "outputs": []
    },
    {
      "cell_type": "code",
      "metadata": {
        "id": "GaN0R7cp9AWe",
        "colab_type": "code",
        "colab": {}
      },
      "source": [
        "# normal function example\n",
        "def my_normal_function(x):\n",
        "    return x**2 + 10\n",
        "# lambda function example\n",
        "my_lambda_function = lambda x: x**2 + 10\n"
      ],
      "execution_count": 8,
      "outputs": []
    },
    {
      "cell_type": "code",
      "metadata": {
        "id": "i0-fzDnk9JB4",
        "colab_type": "code",
        "colab": {
          "base_uri": "https://localhost:8080/",
          "height": 34
        },
        "outputId": "d6af0b41-7abb-4869-c6c3-fff876fcb091"
      },
      "source": [
        "# make a new column to highlight retweets\n",
        "df['is_retweet'] = df['tweet'].apply(lambda x: x[:2]=='RT')\n",
        "df['is_retweet'].sum()  # number of retweets"
      ],
      "execution_count": 9,
      "outputs": [
        {
          "output_type": "execute_result",
          "data": {
            "text/plain": [
              "773"
            ]
          },
          "metadata": {
            "tags": []
          },
          "execution_count": 9
        }
      ]
    },
    {
      "cell_type": "code",
      "metadata": {
        "id": "NTEWg0Et9MWg",
        "colab_type": "code",
        "colab": {
          "base_uri": "https://localhost:8080/",
          "height": 34
        },
        "outputId": "6d60d320-1189-48b0-8f72-93c8d66115ab"
      },
      "source": [
        " # number of unique retweets\n",
        "df.loc[df['is_retweet']].tweet.unique().size\n"
      ],
      "execution_count": 10,
      "outputs": [
        {
          "output_type": "execute_result",
          "data": {
            "text/plain": [
              "677"
            ]
          },
          "metadata": {
            "tags": []
          },
          "execution_count": 10
        }
      ]
    },
    {
      "cell_type": "code",
      "metadata": {
        "id": "qYM0FCBH9PfZ",
        "colab_type": "code",
        "colab": {
          "base_uri": "https://localhost:8080/",
          "height": 363
        },
        "outputId": "44fab81a-5f60-4e30-df58-3b3ed7f2e462"
      },
      "source": [
        "# 10 most repeated tweets\n",
        "df.groupby(['tweet']).size().reset_index(name='counts')\\\n",
        "  .sort_values('counts', ascending=False).head(10)\n"
      ],
      "execution_count": 11,
      "outputs": [
        {
          "output_type": "execute_result",
          "data": {
            "text/html": [
              "<div>\n",
              "<style scoped>\n",
              "    .dataframe tbody tr th:only-of-type {\n",
              "        vertical-align: middle;\n",
              "    }\n",
              "\n",
              "    .dataframe tbody tr th {\n",
              "        vertical-align: top;\n",
              "    }\n",
              "\n",
              "    .dataframe thead th {\n",
              "        text-align: right;\n",
              "    }\n",
              "</style>\n",
              "<table border=\"1\" class=\"dataframe\">\n",
              "  <thead>\n",
              "    <tr style=\"text-align: right;\">\n",
              "      <th></th>\n",
              "      <th>tweet</th>\n",
              "      <th>counts</th>\n",
              "    </tr>\n",
              "  </thead>\n",
              "  <tbody>\n",
              "    <tr>\n",
              "      <th>3131</th>\n",
              "      <td>No matter if you believe in global warming or ...</td>\n",
              "      <td>20</td>\n",
              "    </tr>\n",
              "    <tr>\n",
              "      <th>4555</th>\n",
              "      <td>Take Action @change: Help Protect Wildlife Hab...</td>\n",
              "      <td>14</td>\n",
              "    </tr>\n",
              "    <tr>\n",
              "      <th>4027</th>\n",
              "      <td>RT @newtgingrich: Historic snow storm in washi...</td>\n",
              "      <td>9</td>\n",
              "    </tr>\n",
              "    <tr>\n",
              "      <th>1765</th>\n",
              "      <td>Fight Climate Change From All Fronts: [link]</td>\n",
              "      <td>8</td>\n",
              "    </tr>\n",
              "    <tr>\n",
              "      <th>1626</th>\n",
              "      <td>Earth's polar ice sheets vulnerable to even mo...</td>\n",
              "      <td>7</td>\n",
              "    </tr>\n",
              "    <tr>\n",
              "      <th>1941</th>\n",
              "      <td>Global Warming Dent's El Ni'o's Protective Shi...</td>\n",
              "      <td>7</td>\n",
              "    </tr>\n",
              "    <tr>\n",
              "      <th>1799</th>\n",
              "      <td>Foes of California's global warming law pour m...</td>\n",
              "      <td>6</td>\n",
              "    </tr>\n",
              "    <tr>\n",
              "      <th>1351</th>\n",
              "      <td>Coalition of the Tired of Waiting: Fighting Cl...</td>\n",
              "      <td>6</td>\n",
              "    </tr>\n",
              "    <tr>\n",
              "      <th>4271</th>\n",
              "      <td>SCIENCE: Scientists explore the evolution of c...</td>\n",
              "      <td>6</td>\n",
              "    </tr>\n",
              "    <tr>\n",
              "      <th>1040</th>\n",
              "      <td>Carbon offsets: How a Vatican forest failed to...</td>\n",
              "      <td>6</td>\n",
              "    </tr>\n",
              "  </tbody>\n",
              "</table>\n",
              "</div>"
            ],
            "text/plain": [
              "                                                  tweet  counts\n",
              "3131  No matter if you believe in global warming or ...      20\n",
              "4555  Take Action @change: Help Protect Wildlife Hab...      14\n",
              "4027  RT @newtgingrich: Historic snow storm in washi...       9\n",
              "1765       Fight Climate Change From All Fronts: [link]       8\n",
              "1626  Earth's polar ice sheets vulnerable to even mo...       7\n",
              "1941  Global Warming Dent's El Ni'o's Protective Shi...       7\n",
              "1799  Foes of California's global warming law pour m...       6\n",
              "1351  Coalition of the Tired of Waiting: Fighting Cl...       6\n",
              "4271  SCIENCE: Scientists explore the evolution of c...       6\n",
              "1040  Carbon offsets: How a Vatican forest failed to...       6"
            ]
          },
          "metadata": {
            "tags": []
          },
          "execution_count": 11
        }
      ]
    },
    {
      "cell_type": "code",
      "metadata": {
        "id": "kysd8kwq9SWR",
        "colab_type": "code",
        "colab": {
          "base_uri": "https://localhost:8080/",
          "height": 279
        },
        "outputId": "64ff3d18-4b5e-484a-9100-d9daa3c1c51f"
      },
      "source": [
        "# number of times each tweet appears\n",
        "counts = df.groupby(['tweet']).size()\\\n",
        "           .reset_index(name='counts')\\\n",
        "           .counts\n",
        "\n",
        "# define bins for histogram\n",
        "my_bins = np.arange(0,counts.max()+2, 1)-0.5\n",
        "\n",
        "# plot histogram of tweet counts\n",
        "plt.figure()\n",
        "plt.hist(counts, bins = my_bins)\n",
        "plt.xlabels = np.arange(1,counts.max()+1, 1)\n",
        "plt.xlabel('copies of each tweet')\n",
        "plt.ylabel('frequency')\n",
        "plt.yscale('log', nonposy='clip')\n",
        "plt.show()\n"
      ],
      "execution_count": 12,
      "outputs": [
        {
          "output_type": "display_data",
          "data": {
            "image/png": "[encoded data removed]",
            "text/plain": [
              "<Figure size 432x288 with 1 Axes>"
            ]
          },
          "metadata": {
            "tags": [],
            "needs_background": "light"
          }
        }
      ]
    },
    {
      "cell_type": "code",
      "metadata": {
        "id": "F5WaPhEv9XSr",
        "colab_type": "code",
        "colab": {}
      },
      "source": [
        "def find_retweeted(tweet):\n",
        "    '''This function will extract the twitter handles of retweed people'''\n",
        "    return re.findall('(?<=RT\\s)(@[A-Za-z]+[A-Za-z0-9-_]+)', tweet)\n",
        "\n",
        "def find_mentioned(tweet):\n",
        "    '''This function will extract the twitter handles of people mentioned in the tweet'''\n",
        "    return re.findall('(?<!RT\\s)(@[A-Za-z]+[A-Za-z0-9-_]+)', tweet)  \n",
        "\n",
        "def find_hashtags(tweet):\n",
        "    '''This function will extract hashtags'''\n",
        "    return re.findall('(#[A-Za-z]+[A-Za-z0-9-_]+)', tweet)   "
      ],
      "execution_count": 13,
      "outputs": []
    },
    {
      "cell_type": "code",
      "metadata": {
        "id": "oS1tacXS9gWf",
        "colab_type": "code",
        "colab": {}
      },
      "source": [
        "# two sample tweets\n",
        "my_tweet = 'RT @our_codingclub: Can @you find #all the #hashtags?'\n",
        "my_other_tweet = 'Not a retweet. All views @my own'\n"
      ],
      "execution_count": 15,
      "outputs": []
    },
    {
      "cell_type": "code",
      "metadata": {
        "id": "IfK7at7l9joC",
        "colab_type": "code",
        "colab": {}
      },
      "source": [
        "# make new columns for retweeted usernames, mentioned usernames and hashtags\n",
        "df['retweeted'] = df.tweet.apply(find_retweeted)\n",
        "df['mentioned'] = df.tweet.apply(find_mentioned)\n",
        "df['hashtags'] = df.tweet.apply(find_hashtags)\n"
      ],
      "execution_count": 16,
      "outputs": []
    },
    {
      "cell_type": "code",
      "metadata": {
        "id": "wXIap7Vh91Pt",
        "colab_type": "code",
        "colab": {}
      },
      "source": [
        "# take the rows from the hashtag columns where there are actually hashtags\n",
        "hashtags_list_df = df.loc[\n",
        "                       df.hashtags.apply(\n",
        "                           lambda hashtags_list: hashtags_list !=[]\n",
        "                       ),['hashtags']]\n"
      ],
      "execution_count": 17,
      "outputs": []
    },
    {
      "cell_type": "code",
      "metadata": {
        "id": "aG-4OC_y95CT",
        "colab_type": "code",
        "colab": {}
      },
      "source": [
        "# create dataframe where each use of hashtag gets its own row\n",
        "flattened_hashtags_df = pd.DataFrame(\n",
        "    [hashtag for hashtags_list in hashtags_list_df.hashtags\n",
        "    for hashtag in hashtags_list],\n",
        "    columns=['hashtag'])\n"
      ],
      "execution_count": 18,
      "outputs": []
    },
    {
      "cell_type": "code",
      "metadata": {
        "id": "Gcgy7b0R9-He",
        "colab_type": "code",
        "colab": {
          "base_uri": "https://localhost:8080/",
          "height": 34
        },
        "outputId": "e3cc185e-a98d-46fe-9df0-ad55703000cb"
      },
      "source": [
        "\n",
        "# number of unique hashtags\n",
        "flattened_hashtags_df['hashtag'].unique().size\n"
      ],
      "execution_count": 19,
      "outputs": [
        {
          "output_type": "execute_result",
          "data": {
            "text/plain": [
              "477"
            ]
          },
          "metadata": {
            "tags": []
          },
          "execution_count": 19
        }
      ]
    },
    {
      "cell_type": "code",
      "metadata": {
        "id": "D4hzE1Nw-C9C",
        "colab_type": "code",
        "colab": {}
      },
      "source": [
        "# count of appearances of each hashtag\n",
        "popular_hashtags = flattened_hashtags_df.groupby('hashtag').size()\\\n",
        "                                        .reset_index(name='counts')\\\n",
        "                                        .sort_values('counts', ascending=False)\\\n",
        "                                        .reset_index(drop=True)\n"
      ],
      "execution_count": 20,
      "outputs": []
    },
    {
      "cell_type": "code",
      "metadata": {
        "id": "zLNVYfFX-FFM",
        "colab_type": "code",
        "colab": {
          "base_uri": "https://localhost:8080/",
          "height": 279
        },
        "outputId": "1c7b9eaa-e058-4c7f-9614-ffc8a3deb4c1"
      },
      "source": [
        "# number of times each hashtag appears\n",
        "counts = flattened_hashtags_df.groupby(['hashtag']).size()\\\n",
        "                              .reset_index(name='counts')\\\n",
        "                              .counts\n",
        "\n",
        "# define bins for histogram                              \n",
        "my_bins = np.arange(0,counts.max()+2, 5)-0.5\n",
        "\n",
        "# plot histogram of tweet counts\n",
        "plt.figure()\n",
        "plt.hist(counts, bins = my_bins)\n",
        "plt.xlabels = np.arange(1,counts.max()+1, 1)\n",
        "plt.xlabel('hashtag number of appearances')\n",
        "plt.ylabel('frequency')\n",
        "plt.yscale('log', nonposy='clip')\n",
        "plt.show()\n"
      ],
      "execution_count": 21,
      "outputs": [
        {
          "output_type": "display_data",
          "data": {
            "image/png": "[encoded data removed]",
            "text/plain": [
              "<Figure size 432x288 with 1 Axes>"
            ]
          },
          "metadata": {
            "tags": [],
            "needs_background": "light"
          }
        }
      ]
    },
    {
      "cell_type": "code",
      "metadata": {
        "id": "pk-lbq8D-Hox",
        "colab_type": "code",
        "colab": {}
      },
      "source": [
        "# take hashtags which appear at least this amount of times\n",
        "min_appearance = 10\n",
        "# find popular hashtags - make into python set for efficiency\n",
        "popular_hashtags_set = set(popular_hashtags[\n",
        "                           popular_hashtags.counts>=min_appearance\n",
        "                           ]['hashtag'])\n"
      ],
      "execution_count": 22,
      "outputs": []
    },
    {
      "cell_type": "code",
      "metadata": {
        "id": "HZmszDiB-PkF",
        "colab_type": "code",
        "colab": {}
      },
      "source": [
        "# make a new column with only the popular hashtags\n",
        "hashtags_list_df['popular_hashtags'] = hashtags_list_df.hashtags.apply(\n",
        "            lambda hashtag_list: [hashtag for hashtag in hashtag_list\n",
        "                                  if hashtag in popular_hashtags_set])\n",
        "# drop rows without popular hashtag\n",
        "popular_hashtags_list_df = hashtags_list_df.loc[\n",
        "            hashtags_list_df.popular_hashtags.apply(lambda hashtag_list: hashtag_list !=[])]\n",
        "\n"
      ],
      "execution_count": 23,
      "outputs": []
    },
    {
      "cell_type": "code",
      "metadata": {
        "id": "pheQuXlL-Rk3",
        "colab_type": "code",
        "colab": {}
      },
      "source": [
        "# make new dataframe\n",
        "hashtag_vector_df = popular_hashtags_list_df.loc[:, ['popular_hashtags']]\n",
        "\n",
        "for hashtag in popular_hashtags_set:\n",
        "    # make columns to encode presence of hashtags\n",
        "    hashtag_vector_df['{}'.format(hashtag)] = hashtag_vector_df.popular_hashtags.apply(\n",
        "        lambda hashtag_list: int(hashtag in hashtag_list))\n"
      ],
      "execution_count": 28,
      "outputs": []
    },
    {
      "cell_type": "code",
      "metadata": {
        "id": "KwPKlalD-Tie",
        "colab_type": "code",
        "colab": {
          "base_uri": "https://localhost:8080/",
          "height": 622
        },
        "outputId": "7f19f457-1699-46e5-b530-6114f8e27f07"
      },
      "source": [
        "\n",
        "\n",
        "# Drop popular_hashtags columns\n",
        "hashtag_matrix = hashtag_vector_df.drop('popular_hashtags', axis=1)\n",
        "# calculate the correlation matrix\n",
        "\n",
        "correlations = hashtag_matrix.corr()\n",
        "\n",
        "# plot the correlation matrix\n",
        "plt.figure(figsize=(10,10))\n",
        "sns.heatmap(correlations,\n",
        "    cmap='RdBu',\n",
        "    vmin=-1,\n",
        "    vmax=1,\n",
        "    square = True,\n",
        "    cbar_kws={'label':'correlation'})\n",
        "plt.show()\n"
      ],
      "execution_count": 30,
      "outputs": [
        {
          "output_type": "display_data",
          "data": {
            "image/png": "[encoded data removed]",
            "text/plain": [
              "<Figure size 720x720 with 2 Axes>"
            ]
          },
          "metadata": {
            "tags": [],
            "needs_background": "light"
          }
        }
      ]
    },
    {
      "cell_type": "code",
      "metadata": {
        "id": "PddO-eZC-VtV",
        "colab_type": "code",
        "colab": {}
      },
      "source": [
        ""
      ],
      "execution_count": null,
      "outputs": []
    }
  ]
}