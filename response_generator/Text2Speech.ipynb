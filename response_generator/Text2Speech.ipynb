{
  "nbformat": 4,
  "nbformat_minor": 0,
  "metadata": {
    "colab": {
      "name": "Text2Speech.ipynb",
      "provenance": []
    },
    "kernelspec": {
      "name": "python3",
      "display_name": "Python 3"
    }
  },
  "cells": [
    {
      "cell_type": "code",
      "metadata": {
        "id": "X6Tu1ovbyydU",
        "colab_type": "code",
        "colab": {
          "base_uri": "https://localhost:8080/",
          "height": 416
        },
        "outputId": "232be3c8-1226-4b92-8b39-660749babaeb"
      },
      "source": [
        "!pip3 install gTTS pyttsx3 playsound"
      ],
      "execution_count": 1,
      "outputs": [
        {
          "output_type": "stream",
          "text": [
            "Collecting gTTS\n",
            "  Downloading https://files.pythonhosted.org/packages/a1/0c/4ca77eca3b739a4a08360930643f58d714e302fee0d2f8c654e67d9af8e7/gTTS-2.1.1-py3-none-any.whl\n",
            "Collecting pyttsx3\n",
            "  Downloading https://files.pythonhosted.org/packages/33/9a/de4781245f5ad966646fd276259ef7cfd400ba3cf7d5db7c0d5aab310c20/pyttsx3-2.90-py3-none-any.whl\n",
            "Collecting playsound\n",
            "  Downloading https://files.pythonhosted.org/packages/f5/16/10d897b0a83fb4b05b03a63d7a2667ab75f857f67f7062fd447dd3f49bf7/playsound-1.2.2-py2.py3-none-any.whl\n",
            "Requirement already satisfied: requests in /usr/local/lib/python3.6/dist-packages (from gTTS) (2.23.0)\n",
            "Requirement already satisfied: six in /usr/local/lib/python3.6/dist-packages (from gTTS) (1.12.0)\n",
            "Requirement already satisfied: beautifulsoup4 in /usr/local/lib/python3.6/dist-packages (from gTTS) (4.6.3)\n",
            "Requirement already satisfied: click in /usr/local/lib/python3.6/dist-packages (from gTTS) (7.1.2)\n",
            "Collecting gtts-token>=1.1.3\n",
            "  Downloading https://files.pythonhosted.org/packages/e7/25/ca6e9cd3275bfc3097fe6b06cc31db6d3dfaf32e032e0f73fead9c9a03ce/gTTS-token-1.1.3.tar.gz\n",
            "Requirement already satisfied: chardet<4,>=3.0.2 in /usr/local/lib/python3.6/dist-packages (from requests->gTTS) (3.0.4)\n",
            "Requirement already satisfied: certifi>=2017.4.17 in /usr/local/lib/python3.6/dist-packages (from requests->gTTS) (2020.6.20)\n",
            "Requirement already satisfied: urllib3!=1.25.0,!=1.25.1,<1.26,>=1.21.1 in /usr/local/lib/python3.6/dist-packages (from requests->gTTS) (1.24.3)\n",
            "Requirement already satisfied: idna<3,>=2.5 in /usr/local/lib/python3.6/dist-packages (from requests->gTTS) (2.10)\n",
            "Building wheels for collected packages: gtts-token\n",
            "  Building wheel for gtts-token (setup.py) ... \u001b[?25l\u001b[?25hdone\n",
            "  Created wheel for gtts-token: filename=gTTS_token-1.1.3-cp36-none-any.whl size=4097 sha256=90bafc1865649d89573bd494137182d51c8014e5f77a1e2fd3a2144644623abd\n",
            "  Stored in directory: /root/.cache/pip/wheels/dd/11/61/33f7e51bf545e910552b2255eead2a7cd8ef54064b46dceb34\n",
            "Successfully built gtts-token\n",
            "Installing collected packages: gtts-token, gTTS, pyttsx3, playsound\n",
            "Successfully installed gTTS-2.1.1 gtts-token-1.1.3 playsound-1.2.2 pyttsx3-2.90\n"
          ],
          "name": "stdout"
        }
      ]
    },
    {
      "cell_type": "code",
      "metadata": {
        "id": "0UGDH0Xdy2JN",
        "colab_type": "code",
        "colab": {}
      },
      "source": [
        "import gtts\n",
        "from playsound import playsound"
      ],
      "execution_count": 2,
      "outputs": []
    },
    {
      "cell_type": "code",
      "metadata": {
        "id": "41wl640s01Eh",
        "colab_type": "code",
        "colab": {}
      },
      "source": [
        "\n",
        "\n",
        "from gtts import gTTS\n",
        "import os\n",
        "\n"
      ],
      "execution_count": 11,
      "outputs": []
    },
    {
      "cell_type": "code",
      "metadata": {
        "id": "E_kjcF7106im",
        "colab_type": "code",
        "colab": {}
      },
      "source": [
        "text = \"Hello,Python is an awesome language, It can be used for various tasks\"\n",
        "language = 'en'"
      ],
      "execution_count": 12,
      "outputs": []
    },
    {
      "cell_type": "code",
      "metadata": {
        "id": "WGGmo49_1LA-",
        "colab_type": "code",
        "colab": {}
      },
      "source": [
        "speech = gTTS(text = text, lang = language, slow = False)"
      ],
      "execution_count": 13,
      "outputs": []
    },
    {
      "cell_type": "code",
      "metadata": {
        "id": "9cq5ihhK1PSN",
        "colab_type": "code",
        "colab": {}
      },
      "source": [
        "\n",
        "\n",
        "speech.save(\"new.mp3\")\n",
        "\n"
      ],
      "execution_count": 14,
      "outputs": []
    },
    {
      "cell_type": "code",
      "metadata": {
        "id": "kBzu88KT1TvE",
        "colab_type": "code",
        "colab": {}
      },
      "source": [
        "\n",
        "\n",
        "import IPython.display as ipd\n",
        "\n"
      ],
      "execution_count": 15,
      "outputs": []
    },
    {
      "cell_type": "code",
      "metadata": {
        "id": "P7OD4G2C1Wmv",
        "colab_type": "code",
        "colab": {
          "base_uri": "https://localhost:8080/",
          "height": 61
        },
        "outputId": "91cf039e-ded1-48ac-b524-ed26f3f27e09"
      },
      "source": [
        "ipd.Audio(\"/content/new.mp3\")"
      ],
      "execution_count": 16,
      "outputs": [
        {
          "output_type": "execute_result",
          "data": {
            "text/html": [
              "\n",
              "                <audio controls=\"controls\" >\n",
              "                    <source src=\"data:audio/mpeg;base64,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\" type=\"audio/mpeg\" />\n",
              "                    Your browser does not support the audio element.\n",
              "                </audio>\n",
              "              "
            ],
            "text/plain": [
              "<IPython.lib.display.Audio object>"
            ]
          },
          "metadata": {
            "tags": []
          },
          "execution_count": 16
        }
      ]
    },
    {
      "cell_type": "code",
      "metadata": {
        "id": "UW1Ts5qH1a8P",
        "colab_type": "code",
        "colab": {}
      },
      "source": [
        ""
      ],
      "execution_count": null,
      "outputs": []
    }
  ]
}